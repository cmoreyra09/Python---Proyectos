{
 "cells": [
  {
   "attachments": {},
   "cell_type": "markdown",
   "metadata": {},
   "source": [
    "## Seleccion de Columnas"
   ]
  },
  {
   "cell_type": "code",
   "execution_count": 25,
   "metadata": {},
   "outputs": [
    {
     "name": "stdout",
     "output_type": "stream",
     "text": [
      "╭────┬───────┬───────┬──────────┬────────────┬──────────┬────────────────┬──────────────────────┬─────────────┬──────────┬───────────────────┬──────────────────────────────────────────────────────┬────────────────┬─────────────────────┬──────────────────╮\n",
      "│    │   Año │ Mes   │ Semana   │ Fechas     │ Cadena   │ Departamento   │ Distrito             │ Categoria   │ Marca    │   Codigo_Producto │ Material                                             │   Unidades B2B │   Peso en Toneladas │   Ventas sin IGV │\n",
      "├────┼───────┼───────┼──────────┼────────────┼──────────┼────────────────┼──────────────────────┼─────────────┼──────────┼───────────────────┼──────────────────────────────────────────────────────┼────────────────┼─────────────────────┼──────────────────┤\n",
      "│  0 │  2022 │ Abril │ Semana 1 │ 01/04/2022 │ Makro    │ Cusco          │ San Jeronimo (Cusco) │ Lejias      │ Sapolio  │           8300003 │ Lejia Sapolio Original 5000 grs 4Bot - 8300003       │             19 │            0.095    │           165.71 │\n",
      "│  1 │  2022 │ Abril │ Semana 1 │ 01/04/2022 │ Makro    │ Cusco          │ San Jeronimo (Cusco) │ Pastas      │ Alianza  │           4300008 │ Fid.Alianza Codo Rayado 250 grs 20Bol - 4300008      │              2 │            0.0005   │             2.29 │\n",
      "│  2 │  2022 │ Abril │ Semana 1 │ 01/04/2022 │ Makro    │ Cusco          │ San Jeronimo (Cusco) │ Aceites     │ Primor   │           3101013 │ Nu. Aceite Veg. Primor Premium 1 lt 12 Bot - 3101013 │             61 │            0.055876 │           603.9  │\n",
      "│  3 │  2022 │ Abril │ Semana 1 │ 01/04/2022 │ Makro    │ Cusco          │ San Jeronimo (Cusco) │ Aceites     │ Primor   │           3101018 │ Aceite Prim Oliv Equilibrado 1 lt 12Botpet - 3101018 │              1 │            0.000916 │            29.57 │\n",
      "│  4 │  2022 │ Abril │ Semana 1 │ 01/04/2022 │ Makro    │ Cusco          │ San Jeronimo (Cusco) │ Detergentes │ Marsella │           8400550 │ Det Marsella Alegria Trop 750Gr.15Bol - 8400550      │              1 │            0.00075  │             6.78 │\n",
      "╰────┴───────┴───────┴──────────┴────────────┴──────────┴────────────────┴──────────────────────┴─────────────┴──────────┴───────────────────┴──────────────────────────────────────────────────────┴────────────────┴─────────────────────┴──────────────────╯\n"
     ]
    },
    {
     "data": {
      "text/html": [
       "<div>\n",
       "<style scoped>\n",
       "    .dataframe tbody tr th:only-of-type {\n",
       "        vertical-align: middle;\n",
       "    }\n",
       "\n",
       "    .dataframe tbody tr th {\n",
       "        vertical-align: top;\n",
       "    }\n",
       "\n",
       "    .dataframe thead th {\n",
       "        text-align: right;\n",
       "    }\n",
       "</style>\n",
       "<table border=\"1\" class=\"dataframe\">\n",
       "  <thead>\n",
       "    <tr style=\"text-align: right;\">\n",
       "      <th></th>\n",
       "      <th>Año</th>\n",
       "      <th>Codigo_Producto</th>\n",
       "      <th>Unidades B2B</th>\n",
       "      <th>Peso en Toneladas</th>\n",
       "      <th>Ventas sin IGV</th>\n",
       "    </tr>\n",
       "  </thead>\n",
       "  <tbody>\n",
       "    <tr>\n",
       "      <th>count</th>\n",
       "      <td>625434.0</td>\n",
       "      <td>6.254340e+05</td>\n",
       "      <td>625434.000000</td>\n",
       "      <td>625434.000000</td>\n",
       "      <td>625434.000000</td>\n",
       "    </tr>\n",
       "    <tr>\n",
       "      <th>mean</th>\n",
       "      <td>2022.0</td>\n",
       "      <td>6.239709e+06</td>\n",
       "      <td>19.575274</td>\n",
       "      <td>0.013786</td>\n",
       "      <td>98.718511</td>\n",
       "    </tr>\n",
       "    <tr>\n",
       "      <th>std</th>\n",
       "      <td>0.0</td>\n",
       "      <td>2.231376e+06</td>\n",
       "      <td>84.309577</td>\n",
       "      <td>0.046964</td>\n",
       "      <td>274.907435</td>\n",
       "    </tr>\n",
       "    <tr>\n",
       "      <th>min</th>\n",
       "      <td>2022.0</td>\n",
       "      <td>3.508000e+03</td>\n",
       "      <td>0.000000</td>\n",
       "      <td>0.000000</td>\n",
       "      <td>-26.150000</td>\n",
       "    </tr>\n",
       "    <tr>\n",
       "      <th>25%</th>\n",
       "      <td>2022.0</td>\n",
       "      <td>4.305035e+06</td>\n",
       "      <td>2.000000</td>\n",
       "      <td>0.000985</td>\n",
       "      <td>13.080000</td>\n",
       "    </tr>\n",
       "    <tr>\n",
       "      <th>50%</th>\n",
       "      <td>2022.0</td>\n",
       "      <td>6.701003e+06</td>\n",
       "      <td>5.000000</td>\n",
       "      <td>0.002860</td>\n",
       "      <td>30.255000</td>\n",
       "    </tr>\n",
       "    <tr>\n",
       "      <th>75%</th>\n",
       "      <td>2022.0</td>\n",
       "      <td>8.320032e+06</td>\n",
       "      <td>16.000000</td>\n",
       "      <td>0.009180</td>\n",
       "      <td>77.330000</td>\n",
       "    </tr>\n",
       "    <tr>\n",
       "      <th>max</th>\n",
       "      <td>2022.0</td>\n",
       "      <td>9.550026e+06</td>\n",
       "      <td>32160.000000</td>\n",
       "      <td>3.591750</td>\n",
       "      <td>57233.900000</td>\n",
       "    </tr>\n",
       "  </tbody>\n",
       "</table>\n",
       "</div>"
      ],
      "text/plain": [
       "            Año  Codigo_Producto   Unidades B2B  Peso en Toneladas   \n",
       "count  625434.0     6.254340e+05  625434.000000      625434.000000  \\\n",
       "mean     2022.0     6.239709e+06      19.575274           0.013786   \n",
       "std         0.0     2.231376e+06      84.309577           0.046964   \n",
       "min      2022.0     3.508000e+03       0.000000           0.000000   \n",
       "25%      2022.0     4.305035e+06       2.000000           0.000985   \n",
       "50%      2022.0     6.701003e+06       5.000000           0.002860   \n",
       "75%      2022.0     8.320032e+06      16.000000           0.009180   \n",
       "max      2022.0     9.550026e+06   32160.000000           3.591750   \n",
       "\n",
       "       Ventas sin IGV  \n",
       "count   625434.000000  \n",
       "mean        98.718511  \n",
       "std        274.907435  \n",
       "min        -26.150000  \n",
       "25%         13.080000  \n",
       "50%         30.255000  \n",
       "75%         77.330000  \n",
       "max      57233.900000  "
      ]
     },
     "execution_count": 25,
     "metadata": {},
     "output_type": "execute_result"
    }
   ],
   "source": [
    "import pandas as pd\n",
    "from tabulate import tabulate\n",
    "\n",
    "def read_filepath(file):\n",
    "    data = pd.read_csv(file,delimiter=';')\n",
    "    return data\n",
    "\n",
    "def tabulacion(data):\n",
    "    out = print(tabulate(data,headers='keys',tablefmt='rounded_outline'))\n",
    "    return out\n",
    "\n",
    "\n",
    "\n",
    "df = filepath(r'C:\\Users\\User\\OneDrive\\Documentos\\Archivos_Carlos\\BBDD - No estructurada\\Makro_Ventas.csv')\n",
    "tabulacion(df.head(5))\n"
   ]
  },
  {
   "cell_type": "code",
   "execution_count": 5,
   "metadata": {},
   "outputs": [
    {
     "data": {
      "text/plain": [
       "Index(['Año', 'Mes', 'Semana', 'Fechas', 'Cadena', 'Departamento', 'Distrito',\n",
       "       'Categoria', 'Marca', 'Codigo_Producto', 'Material', 'Unidades B2B',\n",
       "       'Peso en Toneladas', 'Ventas sin IGV'],\n",
       "      dtype='object')"
      ]
     },
     "execution_count": 5,
     "metadata": {},
     "output_type": "execute_result"
    }
   ],
   "source": [
    "df.columns"
   ]
  },
  {
   "cell_type": "code",
   "execution_count": 26,
   "metadata": {},
   "outputs": [
    {
     "name": "stdout",
     "output_type": "stream",
     "text": [
      "╭────────┬───────┬─────────┬──────────┬──────────────────────────────────────────────────────┬──────────────────╮\n",
      "│        │   Año │ Mes     │ Semana   │ Material                                             │   Ventas sin IGV │\n",
      "├────────┼───────┼─────────┼──────────┼──────────────────────────────────────────────────────┼──────────────────┤\n",
      "│ 246638 │  2022 │ Febrero │ Semana 4 │ Uchucuta Alacena 85 grs24Dpk Wa - 3300110            │          57233.9 │\n",
      "│ 120558 │  2022 │ Enero   │ Semana 3 │ Nu. Aceite Veg. Primor Premium 1 lt 12 Bot - 3101013 │          24526.6 │\n",
      "│ 619203 │  2022 │ Julio   │ Semana 4 │ Nu.Fid.Don Vittorio Cab.Ang.250 grs 40Bol - 4302043  │          19913.1 │\n",
      "│ 244401 │  2022 │ Febrero │ Semana 4 │ Uchucuta Alacena 85 grs24Dpk Wa - 3300110            │          19134.9 │\n",
      "│ 226624 │  2022 │ Febrero │ Semana 4 │ Nu.Fid.Don Vittorio Lingüi.500 grs 20Bol - 4302041   │          15819.9 │\n",
      "╰────────┴───────┴─────────┴──────────┴──────────────────────────────────────────────────────┴──────────────────╯\n"
     ]
    }
   ],
   "source": [
    "## Ejercicio 1\n",
    "## Se pide mostrar un top 5 de las mayores ventas que se te tuvieron en la base correspondiente\n",
    "\n",
    "eje1 = df[['Año','Mes','Semana','Material','Ventas sin IGV']].sort_values(by='Ventas sin IGV',ascending=False).head(5)\n",
    "tabulacion(eje1)\n"
   ]
  },
  {
   "cell_type": "code",
   "execution_count": 61,
   "metadata": {},
   "outputs": [
    {
     "data": {
      "text/html": [
       "<div>\n",
       "<style scoped>\n",
       "    .dataframe tbody tr th:only-of-type {\n",
       "        vertical-align: middle;\n",
       "    }\n",
       "\n",
       "    .dataframe tbody tr th {\n",
       "        vertical-align: top;\n",
       "    }\n",
       "\n",
       "    .dataframe thead th {\n",
       "        text-align: right;\n",
       "    }\n",
       "</style>\n",
       "<table border=\"1\" class=\"dataframe\">\n",
       "  <thead>\n",
       "    <tr style=\"text-align: right;\">\n",
       "      <th></th>\n",
       "      <th>Mes</th>\n",
       "      <th>Unidades B2B</th>\n",
       "      <th>Peso en Toneladas</th>\n",
       "      <th>Ventas sin IGV</th>\n",
       "    </tr>\n",
       "  </thead>\n",
       "  <tbody>\n",
       "    <tr>\n",
       "      <th>246638</th>\n",
       "      <td>Febrero</td>\n",
       "      <td>32160</td>\n",
       "      <td>2.733600</td>\n",
       "      <td>57233.90</td>\n",
       "    </tr>\n",
       "    <tr>\n",
       "      <th>120558</th>\n",
       "      <td>Enero</td>\n",
       "      <td>2634</td>\n",
       "      <td>2.412744</td>\n",
       "      <td>24526.61</td>\n",
       "    </tr>\n",
       "    <tr>\n",
       "      <th>619203</th>\n",
       "      <td>Julio</td>\n",
       "      <td>14367</td>\n",
       "      <td>3.591750</td>\n",
       "      <td>19913.06</td>\n",
       "    </tr>\n",
       "    <tr>\n",
       "      <th>244401</th>\n",
       "      <td>Febrero</td>\n",
       "      <td>10752</td>\n",
       "      <td>0.913920</td>\n",
       "      <td>19134.91</td>\n",
       "    </tr>\n",
       "    <tr>\n",
       "      <th>226624</th>\n",
       "      <td>Febrero</td>\n",
       "      <td>6458</td>\n",
       "      <td>3.229000</td>\n",
       "      <td>15819.93</td>\n",
       "    </tr>\n",
       "  </tbody>\n",
       "</table>\n",
       "</div>"
      ],
      "text/plain": [
       "            Mes  Unidades B2B  Peso en Toneladas  Ventas sin IGV\n",
       "246638  Febrero         32160           2.733600        57233.90\n",
       "120558    Enero          2634           2.412744        24526.61\n",
       "619203    Julio         14367           3.591750        19913.06\n",
       "244401  Febrero         10752           0.913920        19134.91\n",
       "226624  Febrero          6458           3.229000        15819.93"
      ]
     },
     "execution_count": 61,
     "metadata": {},
     "output_type": "execute_result"
    }
   ],
   "source": [
    "## Ejercicio 2\n",
    "\n",
    "## Se solicita obtener unicamente atributos 'Mes' y unidades peso en toneladas ventas sin IGV se solicita en una nueva variable el ejercicio se debe de resolver de 2 formas posibles\n",
    "## Forma 1\n",
    "\n",
    "atributos = ['Mes','Unidades B2B','Peso en Toneladas','Ventas sin IGV']\n",
    "df2 = df[atributos].sort_values(by='Ventas sin IGV',ascending= False )\n",
    "df2.head(5)"
   ]
  },
  {
   "cell_type": "code",
   "execution_count": 12,
   "metadata": {},
   "outputs": [
    {
     "data": {
      "text/html": [
       "<div>\n",
       "<style scoped>\n",
       "    .dataframe tbody tr th:only-of-type {\n",
       "        vertical-align: middle;\n",
       "    }\n",
       "\n",
       "    .dataframe tbody tr th {\n",
       "        vertical-align: top;\n",
       "    }\n",
       "\n",
       "    .dataframe thead th {\n",
       "        text-align: right;\n",
       "    }\n",
       "</style>\n",
       "<table border=\"1\" class=\"dataframe\">\n",
       "  <thead>\n",
       "    <tr style=\"text-align: right;\">\n",
       "      <th></th>\n",
       "      <th>Mes</th>\n",
       "      <th>Unidades B2B</th>\n",
       "      <th>Peso en Toneladas</th>\n",
       "      <th>Ventas sin IGV</th>\n",
       "    </tr>\n",
       "  </thead>\n",
       "  <tbody>\n",
       "    <tr>\n",
       "      <th>0</th>\n",
       "      <td>Abril</td>\n",
       "      <td>19</td>\n",
       "      <td>0.095000</td>\n",
       "      <td>165.71</td>\n",
       "    </tr>\n",
       "    <tr>\n",
       "      <th>1</th>\n",
       "      <td>Abril</td>\n",
       "      <td>2</td>\n",
       "      <td>0.000500</td>\n",
       "      <td>2.29</td>\n",
       "    </tr>\n",
       "    <tr>\n",
       "      <th>2</th>\n",
       "      <td>Abril</td>\n",
       "      <td>61</td>\n",
       "      <td>0.055876</td>\n",
       "      <td>603.90</td>\n",
       "    </tr>\n",
       "    <tr>\n",
       "      <th>3</th>\n",
       "      <td>Abril</td>\n",
       "      <td>1</td>\n",
       "      <td>0.000916</td>\n",
       "      <td>29.57</td>\n",
       "    </tr>\n",
       "    <tr>\n",
       "      <th>4</th>\n",
       "      <td>Abril</td>\n",
       "      <td>1</td>\n",
       "      <td>0.000750</td>\n",
       "      <td>6.78</td>\n",
       "    </tr>\n",
       "  </tbody>\n",
       "</table>\n",
       "</div>"
      ],
      "text/plain": [
       "     Mes  Unidades B2B  Peso en Toneladas  Ventas sin IGV\n",
       "0  Abril            19           0.095000          165.71\n",
       "1  Abril             2           0.000500            2.29\n",
       "2  Abril            61           0.055876          603.90\n",
       "3  Abril             1           0.000916           29.57\n",
       "4  Abril             1           0.000750            6.78"
      ]
     },
     "execution_count": 12,
     "metadata": {},
     "output_type": "execute_result"
    }
   ],
   "source": [
    "## Resolucion ejercicio 2 _ Forma 2\n",
    "\n",
    "atributos_1 = df[['Mes','Unidades B2B','Peso en Toneladas','Ventas sin IGV']]\n",
    "atributos_1.head(5)"
   ]
  },
  {
   "cell_type": "code",
   "execution_count": 47,
   "metadata": {},
   "outputs": [
    {
     "name": "stdout",
     "output_type": "stream",
     "text": [
      "+-------+-------+----------+------------+\n",
      "|   Año | Mes   | Semana   | Fechas     |\n",
      "|-------+-------+----------+------------|\n",
      "|  2022 | Abril | Semana 1 | 01/04/2022 |\n",
      "|  2022 | Abril | Semana 1 | 01/04/2022 |\n",
      "|  2022 | Abril | Semana 1 | 01/04/2022 |\n",
      "|  2022 | Abril | Semana 1 | 01/04/2022 |\n",
      "|  2022 | Abril | Semana 1 | 01/04/2022 |\n",
      "|  2022 | Abril | Semana 1 | 01/04/2022 |\n",
      "|  2022 | Abril | Semana 1 | 01/04/2022 |\n",
      "|  2022 | Abril | Semana 1 | 01/04/2022 |\n",
      "|  2022 | Abril | Semana 1 | 01/04/2022 |\n",
      "|  2022 | Abril | Semana 1 | 01/04/2022 |\n",
      "+-------+-------+----------+------------+\n"
     ]
    }
   ],
   "source": [
    "## Ejercicio 1 -- Libreria tabulate\n",
    "\n",
    "# Seleccionar solo las columnas 'Año', 'Mes', 'Semana' y 'Fechas'\n",
    "data = df[['Año', 'Mes', 'Semana', 'Fechas']].values.tolist() ## Se pasa a valores de lista\n",
    "\n",
    "# Seleccionar solo los primeros 5 elementos de la lista\n",
    "data_2 = data[:10] ## Se realiza este codigo ya que la variable data se encuentra como formato lista\n",
    "\n",
    "# Imprimir la lista en una tabla\n",
    "print(tabulate(data_2, headers=['Año', 'Mes', 'Semana', 'Fechas'],tablefmt='psql'))"
   ]
  },
  {
   "cell_type": "code",
   "execution_count": 59,
   "metadata": {},
   "outputs": [
    {
     "name": "stdout",
     "output_type": "stream",
     "text": [
      "+-------+----------------+---------------------+------------------+\n",
      "| Mes   |   Unidades B2B |   Peso en Toneladas |   Ventas sin IGV |\n",
      "|-------+----------------+---------------------+------------------|\n",
      "| Abril |             19 |            0.095    |           165.71 |\n",
      "| Abril |              2 |            0.0005   |             2.29 |\n",
      "| Abril |             61 |            0.055876 |           603.9  |\n",
      "| Abril |              1 |            0.000916 |            29.57 |\n",
      "| Abril |              1 |            0.00075  |             6.78 |\n",
      "| Abril |              5 |            0.0025   |            13.15 |\n",
      "+-------+----------------+---------------------+------------------+\n"
     ]
    }
   ],
   "source": [
    "# Ejercicio 2 -- Libreria tabulate\n",
    "# Se solicita mostrar en el formato tabulate los registros resueltos del ejercicio numero 2 y se pide mostrar unicamente 5 registros\n",
    "\n",
    "df3 = df[atributos].values.tolist() ## Pasa a lista el nuevo data frame\n",
    "data_3 = df3[:6]\n",
    "print(tabulate(data_3,headers=atributos,tablefmt = 'psql'))\n"
   ]
  },
  {
   "cell_type": "code",
   "execution_count": 1,
   "metadata": {},
   "outputs": [
    {
     "ename": "NameError",
     "evalue": "name 'df' is not defined",
     "output_type": "error",
     "traceback": [
      "\u001b[1;31m---------------------------------------------------------------------------\u001b[0m",
      "\u001b[1;31mNameError\u001b[0m                                 Traceback (most recent call last)",
      "Cell \u001b[1;32mIn[1], line 5\u001b[0m\n\u001b[0;32m      1\u001b[0m \u001b[39m# Ejercicio 3 -- Libreria tabulate\u001b[39;00m\n\u001b[0;32m      2\u001b[0m \n\u001b[0;32m      3\u001b[0m \u001b[39m# Se solicita mostrar en el formato tabulate unicamente de los atributos año , categoria , ventas sin IGV y toneladas en una variable se solicta mostrar unimcanete 15 registros en utilizando la libreria tabulate\u001b[39;00m\n\u001b[0;32m      4\u001b[0m new_dataset \u001b[39m=\u001b[39m [\u001b[39m'\u001b[39m\u001b[39mAño\u001b[39m\u001b[39m'\u001b[39m,\u001b[39m'\u001b[39m\u001b[39mCategoria\u001b[39m\u001b[39m'\u001b[39m,\u001b[39m'\u001b[39m\u001b[39mVentas sin IGV\u001b[39m\u001b[39m'\u001b[39m,\u001b[39m'\u001b[39m\u001b[39mPeso en Toneladas\u001b[39m\u001b[39m'\u001b[39m] \u001b[39m## Se crea una variable para llamar los atributos solicitados\u001b[39;00m\n\u001b[1;32m----> 5\u001b[0m new_df \u001b[39m=\u001b[39m df[new_dataset]\u001b[39m.\u001b[39mvalues\u001b[39m.\u001b[39mtolist() \u001b[39m## Se realiza la conversion a lista para que se pueda utilizar la libreria tabulate\u001b[39;00m\n\u001b[0;32m      6\u001b[0m filtro_15 \u001b[39m=\u001b[39m new_df[:\u001b[39m15\u001b[39m] \u001b[39m## Se realiza el filtro correspondiente para que se muestre unicamente los 15 registros\u001b[39;00m\n\u001b[0;32m      7\u001b[0m \u001b[39mprint\u001b[39m(tabulate(filtro_15,headers\u001b[39m=\u001b[39mnew_dataset,tablefmt\u001b[39m=\u001b[39m\u001b[39m'\u001b[39m\u001b[39mpsql\u001b[39m\u001b[39m'\u001b[39m)) \u001b[39m## Se imprime el resultado final\u001b[39;00m\n",
      "\u001b[1;31mNameError\u001b[0m: name 'df' is not defined"
     ]
    }
   ],
   "source": [
    "# Ejercicio 3 -- Libreria tabulate\n",
    "\n",
    "# Se solicita mostrar en el formato tabulate unicamente de los atributos año , categoria , ventas sin IGV y toneladas en una variable se solicta mostrar unimcanete 15 registros en utilizando la libreria tabulate\n",
    "new_dataset = ['Año','Categoria','Ventas sin IGV','Peso en Toneladas'] ## Se crea una variable para llamar los atributos solicitados\n",
    "new_df = df[new_dataset].values.tolist() ## Se realiza la conversion a lista para que se pueda utilizar la libreria tabulate\n",
    "filtro_15 = new_df[:15] ## Se realiza el filtro correspondiente para que se muestre unicamente los 15 registros\n",
    "print(tabulate(filtro_15,headers=new_dataset,tablefmt='psql')) ## Se imprime el resultado final"
   ]
  },
  {
   "cell_type": "code",
   "execution_count": 15,
   "metadata": {},
   "outputs": [],
   "source": [
    "import pandas as pd\n",
    "\n",
    "data = {'Nombre': ['Juan', 'Maria', 'Pedro', 'Juan', 'Luis', 'Maria','Carlos','Carlos'],\n",
    "        'Edad': [20, 25, 30, 20, 40, 25,25,25],\n",
    "        'Ciudad': ['Madrid', 'Barcelona', 'Valencia', 'Madrid', 'Sevilla', 'Barcelona','Peru','Peru']}\n",
    "\n",
    "\n"
   ]
  },
  {
   "cell_type": "code",
   "execution_count": 16,
   "metadata": {},
   "outputs": [
    {
     "data": {
      "text/html": [
       "<div>\n",
       "<style scoped>\n",
       "    .dataframe tbody tr th:only-of-type {\n",
       "        vertical-align: middle;\n",
       "    }\n",
       "\n",
       "    .dataframe tbody tr th {\n",
       "        vertical-align: top;\n",
       "    }\n",
       "\n",
       "    .dataframe thead th {\n",
       "        text-align: right;\n",
       "    }\n",
       "</style>\n",
       "<table border=\"1\" class=\"dataframe\">\n",
       "  <thead>\n",
       "    <tr style=\"text-align: right;\">\n",
       "      <th></th>\n",
       "      <th>Nombre</th>\n",
       "      <th>Edad</th>\n",
       "      <th>Ciudad</th>\n",
       "    </tr>\n",
       "  </thead>\n",
       "  <tbody>\n",
       "    <tr>\n",
       "      <th>0</th>\n",
       "      <td>Juan</td>\n",
       "      <td>20</td>\n",
       "      <td>Madrid</td>\n",
       "    </tr>\n",
       "    <tr>\n",
       "      <th>1</th>\n",
       "      <td>Maria</td>\n",
       "      <td>25</td>\n",
       "      <td>Barcelona</td>\n",
       "    </tr>\n",
       "    <tr>\n",
       "      <th>2</th>\n",
       "      <td>Pedro</td>\n",
       "      <td>30</td>\n",
       "      <td>Valencia</td>\n",
       "    </tr>\n",
       "    <tr>\n",
       "      <th>3</th>\n",
       "      <td>Juan</td>\n",
       "      <td>20</td>\n",
       "      <td>Madrid</td>\n",
       "    </tr>\n",
       "    <tr>\n",
       "      <th>4</th>\n",
       "      <td>Luis</td>\n",
       "      <td>40</td>\n",
       "      <td>Sevilla</td>\n",
       "    </tr>\n",
       "    <tr>\n",
       "      <th>5</th>\n",
       "      <td>Maria</td>\n",
       "      <td>25</td>\n",
       "      <td>Barcelona</td>\n",
       "    </tr>\n",
       "    <tr>\n",
       "      <th>6</th>\n",
       "      <td>Carlos</td>\n",
       "      <td>25</td>\n",
       "      <td>Peru</td>\n",
       "    </tr>\n",
       "    <tr>\n",
       "      <th>7</th>\n",
       "      <td>Carlos</td>\n",
       "      <td>25</td>\n",
       "      <td>Peru</td>\n",
       "    </tr>\n",
       "  </tbody>\n",
       "</table>\n",
       "</div>"
      ],
      "text/plain": [
       "   Nombre  Edad     Ciudad\n",
       "0    Juan    20     Madrid\n",
       "1   Maria    25  Barcelona\n",
       "2   Pedro    30   Valencia\n",
       "3    Juan    20     Madrid\n",
       "4    Luis    40    Sevilla\n",
       "5   Maria    25  Barcelona\n",
       "6  Carlos    25       Peru\n",
       "7  Carlos    25       Peru"
      ]
     },
     "execution_count": 16,
     "metadata": {},
     "output_type": "execute_result"
    }
   ],
   "source": [
    "df_ = pd.DataFrame(data)\n",
    "df_"
   ]
  }
 ],
 "metadata": {
  "kernelspec": {
   "display_name": "Python 3",
   "language": "python",
   "name": "python3"
  },
  "language_info": {
   "codemirror_mode": {
    "name": "ipython",
    "version": 3
   },
   "file_extension": ".py",
   "mimetype": "text/x-python",
   "name": "python",
   "nbconvert_exporter": "python",
   "pygments_lexer": "ipython3",
   "version": "3.11.3"
  },
  "orig_nbformat": 4
 },
 "nbformat": 4,
 "nbformat_minor": 2
}
