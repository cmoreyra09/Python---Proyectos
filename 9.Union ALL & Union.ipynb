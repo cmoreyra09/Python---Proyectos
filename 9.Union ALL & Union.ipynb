{
 "cells": [
  {
   "attachments": {},
   "cell_type": "markdown",
   "metadata": {},
   "source": [
    "## Union All & Union "
   ]
  },
  {
   "cell_type": "code",
   "execution_count": 1,
   "metadata": {},
   "outputs": [
    {
     "data": {
      "text/html": [
       "<div>\n",
       "<style scoped>\n",
       "    .dataframe tbody tr th:only-of-type {\n",
       "        vertical-align: middle;\n",
       "    }\n",
       "\n",
       "    .dataframe tbody tr th {\n",
       "        vertical-align: top;\n",
       "    }\n",
       "\n",
       "    .dataframe thead th {\n",
       "        text-align: right;\n",
       "    }\n",
       "</style>\n",
       "<table border=\"1\" class=\"dataframe\">\n",
       "  <thead>\n",
       "    <tr style=\"text-align: right;\">\n",
       "      <th></th>\n",
       "      <th>Año</th>\n",
       "      <th>Mes</th>\n",
       "      <th>Semana</th>\n",
       "      <th>Fechas</th>\n",
       "      <th>Cadena</th>\n",
       "      <th>Departamento</th>\n",
       "      <th>Distrito</th>\n",
       "      <th>Categoria</th>\n",
       "      <th>Marca</th>\n",
       "      <th>Codigo_Producto</th>\n",
       "      <th>Material</th>\n",
       "      <th>Unidades B2B</th>\n",
       "      <th>Peso en Toneladas</th>\n",
       "      <th>Ventas sin IGV</th>\n",
       "    </tr>\n",
       "  </thead>\n",
       "  <tbody>\n",
       "    <tr>\n",
       "      <th>0</th>\n",
       "      <td>2022</td>\n",
       "      <td>Abril</td>\n",
       "      <td>Semana 1</td>\n",
       "      <td>01/04/2022</td>\n",
       "      <td>Makro</td>\n",
       "      <td>Cusco</td>\n",
       "      <td>San Jeronimo (Cusco)</td>\n",
       "      <td>Lejias</td>\n",
       "      <td>Sapolio</td>\n",
       "      <td>8300003</td>\n",
       "      <td>Lejia Sapolio Original 5000 grs 4Bot - 8300003</td>\n",
       "      <td>19</td>\n",
       "      <td>0.095000</td>\n",
       "      <td>165.71</td>\n",
       "    </tr>\n",
       "    <tr>\n",
       "      <th>1</th>\n",
       "      <td>2022</td>\n",
       "      <td>Abril</td>\n",
       "      <td>Semana 1</td>\n",
       "      <td>01/04/2022</td>\n",
       "      <td>Makro</td>\n",
       "      <td>Cusco</td>\n",
       "      <td>San Jeronimo (Cusco)</td>\n",
       "      <td>Pastas</td>\n",
       "      <td>Alianza</td>\n",
       "      <td>4300008</td>\n",
       "      <td>Fid.Alianza Codo Rayado 250 grs 20Bol - 4300008</td>\n",
       "      <td>2</td>\n",
       "      <td>0.000500</td>\n",
       "      <td>2.29</td>\n",
       "    </tr>\n",
       "    <tr>\n",
       "      <th>2</th>\n",
       "      <td>2022</td>\n",
       "      <td>Abril</td>\n",
       "      <td>Semana 1</td>\n",
       "      <td>01/04/2022</td>\n",
       "      <td>Makro</td>\n",
       "      <td>Cusco</td>\n",
       "      <td>San Jeronimo (Cusco)</td>\n",
       "      <td>Aceites</td>\n",
       "      <td>Primor</td>\n",
       "      <td>3101013</td>\n",
       "      <td>Nu. Aceite Veg. Primor Premium 1 lt 12 Bot - 3...</td>\n",
       "      <td>61</td>\n",
       "      <td>0.055876</td>\n",
       "      <td>603.90</td>\n",
       "    </tr>\n",
       "    <tr>\n",
       "      <th>3</th>\n",
       "      <td>2022</td>\n",
       "      <td>Abril</td>\n",
       "      <td>Semana 1</td>\n",
       "      <td>01/04/2022</td>\n",
       "      <td>Makro</td>\n",
       "      <td>Cusco</td>\n",
       "      <td>San Jeronimo (Cusco)</td>\n",
       "      <td>Aceites</td>\n",
       "      <td>Primor</td>\n",
       "      <td>3101018</td>\n",
       "      <td>Aceite Prim Oliv Equilibrado 1 lt 12Botpet - 3...</td>\n",
       "      <td>1</td>\n",
       "      <td>0.000916</td>\n",
       "      <td>29.57</td>\n",
       "    </tr>\n",
       "    <tr>\n",
       "      <th>4</th>\n",
       "      <td>2022</td>\n",
       "      <td>Abril</td>\n",
       "      <td>Semana 1</td>\n",
       "      <td>01/04/2022</td>\n",
       "      <td>Makro</td>\n",
       "      <td>Cusco</td>\n",
       "      <td>San Jeronimo (Cusco)</td>\n",
       "      <td>Detergentes</td>\n",
       "      <td>Marsella</td>\n",
       "      <td>8400550</td>\n",
       "      <td>Det Marsella Alegria Trop 750Gr.15Bol - 8400550</td>\n",
       "      <td>1</td>\n",
       "      <td>0.000750</td>\n",
       "      <td>6.78</td>\n",
       "    </tr>\n",
       "  </tbody>\n",
       "</table>\n",
       "</div>"
      ],
      "text/plain": [
       "    Año    Mes    Semana      Fechas Cadena Departamento   \n",
       "0  2022  Abril  Semana 1  01/04/2022  Makro        Cusco  \\\n",
       "1  2022  Abril  Semana 1  01/04/2022  Makro        Cusco   \n",
       "2  2022  Abril  Semana 1  01/04/2022  Makro        Cusco   \n",
       "3  2022  Abril  Semana 1  01/04/2022  Makro        Cusco   \n",
       "4  2022  Abril  Semana 1  01/04/2022  Makro        Cusco   \n",
       "\n",
       "               Distrito    Categoria     Marca  Codigo_Producto   \n",
       "0  San Jeronimo (Cusco)       Lejias   Sapolio          8300003  \\\n",
       "1  San Jeronimo (Cusco)       Pastas   Alianza          4300008   \n",
       "2  San Jeronimo (Cusco)      Aceites    Primor          3101013   \n",
       "3  San Jeronimo (Cusco)      Aceites    Primor          3101018   \n",
       "4  San Jeronimo (Cusco)  Detergentes  Marsella          8400550   \n",
       "\n",
       "                                            Material  Unidades B2B   \n",
       "0     Lejia Sapolio Original 5000 grs 4Bot - 8300003            19  \\\n",
       "1    Fid.Alianza Codo Rayado 250 grs 20Bol - 4300008             2   \n",
       "2  Nu. Aceite Veg. Primor Premium 1 lt 12 Bot - 3...            61   \n",
       "3  Aceite Prim Oliv Equilibrado 1 lt 12Botpet - 3...             1   \n",
       "4    Det Marsella Alegria Trop 750Gr.15Bol - 8400550             1   \n",
       "\n",
       "   Peso en Toneladas  Ventas sin IGV  \n",
       "0           0.095000          165.71  \n",
       "1           0.000500            2.29  \n",
       "2           0.055876          603.90  \n",
       "3           0.000916           29.57  \n",
       "4           0.000750            6.78  "
      ]
     },
     "execution_count": 1,
     "metadata": {},
     "output_type": "execute_result"
    }
   ],
   "source": [
    "## Seccion de Union All and Union\n",
    "\n",
    "import pandas as pd\n",
    "from tabulate import tabulate\n",
    "import numpy as np\n",
    "\n",
    "df = pd.read_csv(r\"C:\\Users\\User\\OneDrive\\Documentos\\Archivos_Carlos\\BBDD - No estructurada\\Makro_Ventas.csv\",delimiter=\";\")\n",
    "df.head(5) ## Salida 5 Datos "
   ]
  },
  {
   "cell_type": "code",
   "execution_count": 11,
   "metadata": {},
   "outputs": [
    {
     "data": {
      "text/plain": [
       "array(['Abril', 'Enero', 'Febrero', 'Junio', 'Marzo', 'Mayo', 'Julio'],\n",
       "      dtype=object)"
      ]
     },
     "execution_count": 11,
     "metadata": {},
     "output_type": "execute_result"
    }
   ],
   "source": [
    "## Ejercicio 1\n",
    "## Se pide unir todas las ventas generadas de Enero y Febrero mostrar el top 5 de mayores ventas de esos 2 meses\n",
    "df['Mes'].unique()"
   ]
  },
  {
   "cell_type": "code",
   "execution_count": 13,
   "metadata": {},
   "outputs": [
    {
     "name": "stdout",
     "output_type": "stream",
     "text": [
      "+--------+-------+---------+----------+------------+----------+----------------+------------------------+-------------+--------------+-------------------+------------------------------------------------------+----------------+---------------------+------------------+\n",
      "|        |   Año | Mes     | Semana   | Fechas     | Cadena   | Departamento   | Distrito               | Categoria   | Marca        |   Codigo_Producto | Material                                             |   Unidades B2B |   Peso en Toneladas |   Ventas sin IGV |\n",
      "|--------+-------+---------+----------+------------+----------+----------------+------------------------+-------------+--------------+-------------------+------------------------------------------------------+----------------+---------------------+------------------|\n",
      "| 120558 |  2022 | Enero   | Semana 3 | 18/01/2022 | Makro    | Lambayeque     | Chiclayo               | Aceites     | Primor       |           3101013 | Nu. Aceite Veg. Primor Premium 1 lt 12 Bot - 3101013 |           2634 |             2.41274 |          24526.6 |\n",
      "| 124521 |  2022 | Enero   | Semana 4 | 29/01/2022 | Makro    | Lima           | Santa Anita            | Detergentes | Marsella     |           8404702 | Det. Marsella Profesional 13.5 kg - 8404702          |            204 |             2.754   |          13139.1 |\n",
      "| 167478 |  2022 | Enero   | Semana 4 | 31/01/2022 | Makro    | Lambayeque     | Chiclayo               | Salsas      | Alacena      |           3300077 | Mayonesa Alacena 950 grs .6Dpk - 3300077             |           1068 |             1.01674 |          12671.2 |\n",
      "| 156796 |  2022 | Enero   | Semana 3 | 18/01/2022 | Makro    | Lambayeque     | Chiclayo               | Aceites     | Primor       |           3101011 | Nu. Aceite Vegetal Primor 1 lt 12Bot - 3101011       |           1414 |             1.29522 |          12660.9 |\n",
      "| 160874 |  2022 | Enero   | Semana 3 | 18/01/2022 | Makro    | Lambayeque     | Chiclayo               | Salsas      | Alacena      |           3300077 | Mayonesa Alacena 950 grs .6Dpk - 3300077             |            960 |             0.91392 |          11389.8 |\n",
      "| 246638 |  2022 | Febrero | Semana 4 | 24/02/2022 | Makro    | Lima           | San Juan de Lurigancho | Salsas      | Alacena      |           3300110 | Uchucuta Alacena 85 grs24Dpk Wa - 3300110            |          32160 |             2.7336  |          57233.9 |\n",
      "| 244401 |  2022 | Febrero | Semana 4 | 23/02/2022 | Makro    | Lima           | San Juan de Lurigancho | Salsas      | Alacena      |           3300110 | Uchucuta Alacena 85 grs24Dpk Wa - 3300110            |          10752 |             0.91392 |          19134.9 |\n",
      "| 226624 |  2022 | Febrero | Semana 4 | 24/02/2022 | Makro    | Lambayeque     | Chiclayo               | Pastas      | Don Vittorio |           4302041 | Nu.Fid.Don Vittorio Lingüi.500 grs 20Bol - 4302041   |           6458 |             3.229   |          15819.9 |\n",
      "| 219085 |  2022 | Febrero | Semana 4 | 24/02/2022 | Makro    | Lima           | Santa Anita            | Detergentes | Marsella     |           8404702 | Det. Marsella Profesional 13.5 kg - 8404702          |            229 |             3.0915  |          15525.5 |\n",
      "| 198983 |  2022 | Febrero | Semana 2 | 11/02/2022 | Makro    | Lima           | Santa Anita            | Detergentes | Marsella     |           8404702 | Det. Marsella Profesional 13.5 kg - 8404702          |            191 |             2.5785  |          12949.1 |\n",
      "+--------+-------+---------+----------+------------+----------+----------------+------------------------+-------------+--------------+-------------------+------------------------------------------------------+----------------+---------------------+------------------+\n"
     ]
    }
   ],
   "source": [
    "## Desarollo\n",
    "\n",
    "Mes_Enero = df.loc[df['Mes'] == 'Enero'].sort_values(by='Ventas sin IGV',ascending=False).head(5)\n",
    "Mes_Febrero = df.loc[df['Mes'] == 'Febrero'].sort_values(by='Ventas sin IGV',ascending=False).head(5)\n",
    "\n",
    "## Generacion del Union ALL\n",
    "\n",
    "union_total = pd.concat([Mes_Enero,Mes_Febrero])\n",
    "tabulacion = union_total.values.tolist()\n",
    "print(tabulate(union_total,headers=union_total.columns,tablefmt='psql'))"
   ]
  },
  {
   "cell_type": "code",
   "execution_count": 22,
   "metadata": {},
   "outputs": [],
   "source": [
    "## Ejercicio 2 \n",
    "## Union se pide obtener la union de estos dos dataframes donde no se considere los valores que se encuentren duplicando\n",
    "\n",
    "# Crear la tabla ventas_enero\n",
    "df_enero = pd.DataFrame({\n",
    "    'fecha': ['2022-01-01', '2022-01-02', '2022-01-03', '2022-01-04', '2022-01-05'],\n",
    "    'producto': ['A', 'B', 'C', 'D', 'E'],\n",
    "    'cantidad': [10, 8, 8, 12, 20]\n",
    "})\n",
    "\n",
    "# Crear la tabla ventas_febrero\n",
    "df_febrero = pd.DataFrame({\n",
    "    'fecha': ['2022-02-01', '2022-02-02', '2022-02-03', '2022-02-04', '2022-02-05'],\n",
    "    'producto': ['A', 'B', 'C', 'D', 'E'],\n",
    "    'cantidad': [10, 8, 15, 10, 18]\n",
    "})"
   ]
  },
  {
   "cell_type": "code",
   "execution_count": 24,
   "metadata": {},
   "outputs": [
    {
     "name": "stdout",
     "output_type": "stream",
     "text": [
      "+------------+------------+\n",
      "| producto   |   cantidad |\n",
      "|------------+------------|\n",
      "| A          |         10 |\n",
      "| B          |          8 |\n",
      "| C          |          8 |\n",
      "| D          |         12 |\n",
      "| E          |         20 |\n",
      "| C          |         15 |\n",
      "| D          |         10 |\n",
      "| E          |         18 |\n",
      "+------------+------------+\n"
     ]
    }
   ],
   "source": [
    "## Desarrollo\n",
    "\n",
    "union = pd.merge(df_enero[['producto','cantidad']],df_febrero[['producto','cantidad']],how='outer').drop_duplicates(subset=['producto','cantidad'])\n",
    "format_tabulate = union.values.tolist()\n",
    "print(tabulate(format_tabulate,headers=union.columns,tablefmt='psql'))"
   ]
  }
 ],
 "metadata": {
  "kernelspec": {
   "display_name": "Python 3",
   "language": "python",
   "name": "python3"
  },
  "language_info": {
   "codemirror_mode": {
    "name": "ipython",
    "version": 3
   },
   "file_extension": ".py",
   "mimetype": "text/x-python",
   "name": "python",
   "nbconvert_exporter": "python",
   "pygments_lexer": "ipython3",
   "version": "3.11.3"
  },
  "orig_nbformat": 4
 },
 "nbformat": 4,
 "nbformat_minor": 2
}
